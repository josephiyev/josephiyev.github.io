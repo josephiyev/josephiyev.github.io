{
 "cells": [
  {
   "cell_type": "markdown",
   "metadata": {},
   "source": [
    "## CMSC320 Final - Analysis of Life Expectancy Data\n",
    "### Evan Nadelbach and Joseph Zietowski"
   ]
  },
  {
   "cell_type": "code",
   "execution_count": 87,
   "metadata": {},
   "outputs": [],
   "source": [
    "import pandas as pd\n",
    "import re\n",
    "pd.set_option('display.max_rows', 1000000)"
   ]
  },
  {
   "cell_type": "code",
   "execution_count": 88,
   "metadata": {},
   "outputs": [
    {
     "data": {
      "text/html": [
       "<div>\n",
       "<style scoped>\n",
       "    .dataframe tbody tr th:only-of-type {\n",
       "        vertical-align: middle;\n",
       "    }\n",
       "\n",
       "    .dataframe tbody tr th {\n",
       "        vertical-align: top;\n",
       "    }\n",
       "\n",
       "    .dataframe thead th {\n",
       "        text-align: right;\n",
       "    }\n",
       "</style>\n",
       "<table border=\"1\" class=\"dataframe\">\n",
       "  <thead>\n",
       "    <tr style=\"text-align: right;\">\n",
       "      <th></th>\n",
       "      <th>Country</th>\n",
       "      <th>Year</th>\n",
       "      <th>Life expectancy at birth (years) (Both sexes)</th>\n",
       "      <th>Life expectancy at birth (years) (Male)</th>\n",
       "      <th>Life expectancy at birth (years) (Female)</th>\n",
       "      <th>Life expectancy at age 60 (years) (Both sexes)</th>\n",
       "      <th>Life expectancy at age 60 (years) (Male)</th>\n",
       "      <th>Life expectancy at age 60 (years) (Female)</th>\n",
       "      <th>Healthy life expectancy (HALE) at birth (years) (Both sexes)</th>\n",
       "      <th>Healthy life expectancy (HALE) at birth (years) (Male)</th>\n",
       "      <th>Healthy life expectancy (HALE) at birth (years) (Female)</th>\n",
       "      <th>Healthy life expectancy (HALE) at age 60 (years) (Both sexes)</th>\n",
       "      <th>Healthy life expectancy (HALE) at age 60 (years) (Male)</th>\n",
       "      <th>Healthy life expectancy (HALE) at age 60 (years) (Female)</th>\n",
       "    </tr>\n",
       "  </thead>\n",
       "  <tbody>\n",
       "    <tr>\n",
       "      <th>0</th>\n",
       "      <td>Afghanistan</td>\n",
       "      <td>2016</td>\n",
       "      <td>62.7</td>\n",
       "      <td>61.0</td>\n",
       "      <td>64.5</td>\n",
       "      <td>16.3</td>\n",
       "      <td>15.5</td>\n",
       "      <td>17.1</td>\n",
       "      <td>53.0</td>\n",
       "      <td>52.1</td>\n",
       "      <td>54.1</td>\n",
       "      <td>11.3</td>\n",
       "      <td>10.9</td>\n",
       "      <td>11.7</td>\n",
       "    </tr>\n",
       "    <tr>\n",
       "      <th>1</th>\n",
       "      <td>Afghanistan</td>\n",
       "      <td>2015</td>\n",
       "      <td>63.2</td>\n",
       "      <td>61.8</td>\n",
       "      <td>64.7</td>\n",
       "      <td>16.3</td>\n",
       "      <td>15.5</td>\n",
       "      <td>17.1</td>\n",
       "      <td>53.2</td>\n",
       "      <td>52.6</td>\n",
       "      <td>54.1</td>\n",
       "      <td>11.2</td>\n",
       "      <td>10.8</td>\n",
       "      <td>11.6</td>\n",
       "    </tr>\n",
       "    <tr>\n",
       "      <th>2</th>\n",
       "      <td>Afghanistan</td>\n",
       "      <td>2014</td>\n",
       "      <td>63.0</td>\n",
       "      <td>61.7</td>\n",
       "      <td>64.4</td>\n",
       "      <td>16.2</td>\n",
       "      <td>15.4</td>\n",
       "      <td>17.0</td>\n",
       "      <td>NaN</td>\n",
       "      <td>NaN</td>\n",
       "      <td>NaN</td>\n",
       "      <td>NaN</td>\n",
       "      <td>NaN</td>\n",
       "      <td>NaN</td>\n",
       "    </tr>\n",
       "    <tr>\n",
       "      <th>3</th>\n",
       "      <td>Afghanistan</td>\n",
       "      <td>2013</td>\n",
       "      <td>62.7</td>\n",
       "      <td>61.5</td>\n",
       "      <td>64.1</td>\n",
       "      <td>16.2</td>\n",
       "      <td>15.4</td>\n",
       "      <td>16.9</td>\n",
       "      <td>NaN</td>\n",
       "      <td>NaN</td>\n",
       "      <td>NaN</td>\n",
       "      <td>NaN</td>\n",
       "      <td>NaN</td>\n",
       "      <td>NaN</td>\n",
       "    </tr>\n",
       "    <tr>\n",
       "      <th>4</th>\n",
       "      <td>Afghanistan</td>\n",
       "      <td>2012</td>\n",
       "      <td>62.2</td>\n",
       "      <td>60.9</td>\n",
       "      <td>63.6</td>\n",
       "      <td>16.1</td>\n",
       "      <td>15.3</td>\n",
       "      <td>16.8</td>\n",
       "      <td>NaN</td>\n",
       "      <td>NaN</td>\n",
       "      <td>NaN</td>\n",
       "      <td>NaN</td>\n",
       "      <td>NaN</td>\n",
       "      <td>NaN</td>\n",
       "    </tr>\n",
       "  </tbody>\n",
       "</table>\n",
       "</div>"
      ],
      "text/plain": [
       "       Country  Year  Life expectancy at birth (years) (Both sexes)  \\\n",
       "0  Afghanistan  2016                                           62.7   \n",
       "1  Afghanistan  2015                                           63.2   \n",
       "2  Afghanistan  2014                                           63.0   \n",
       "3  Afghanistan  2013                                           62.7   \n",
       "4  Afghanistan  2012                                           62.2   \n",
       "\n",
       "   Life expectancy at birth (years) (Male)  \\\n",
       "0                                     61.0   \n",
       "1                                     61.8   \n",
       "2                                     61.7   \n",
       "3                                     61.5   \n",
       "4                                     60.9   \n",
       "\n",
       "   Life expectancy at birth (years) (Female)  \\\n",
       "0                                       64.5   \n",
       "1                                       64.7   \n",
       "2                                       64.4   \n",
       "3                                       64.1   \n",
       "4                                       63.6   \n",
       "\n",
       "   Life expectancy at age 60 (years) (Both sexes)  \\\n",
       "0                                            16.3   \n",
       "1                                            16.3   \n",
       "2                                            16.2   \n",
       "3                                            16.2   \n",
       "4                                            16.1   \n",
       "\n",
       "   Life expectancy at age 60 (years) (Male)  \\\n",
       "0                                      15.5   \n",
       "1                                      15.5   \n",
       "2                                      15.4   \n",
       "3                                      15.4   \n",
       "4                                      15.3   \n",
       "\n",
       "   Life expectancy at age 60 (years) (Female)  \\\n",
       "0                                        17.1   \n",
       "1                                        17.1   \n",
       "2                                        17.0   \n",
       "3                                        16.9   \n",
       "4                                        16.8   \n",
       "\n",
       "   Healthy life expectancy (HALE) at birth (years) (Both sexes)  \\\n",
       "0                                               53.0              \n",
       "1                                               53.2              \n",
       "2                                                NaN              \n",
       "3                                                NaN              \n",
       "4                                                NaN              \n",
       "\n",
       "   Healthy life expectancy (HALE) at birth (years) (Male)  \\\n",
       "0                                               52.1        \n",
       "1                                               52.6        \n",
       "2                                                NaN        \n",
       "3                                                NaN        \n",
       "4                                                NaN        \n",
       "\n",
       "   Healthy life expectancy (HALE) at birth (years) (Female)  \\\n",
       "0                                               54.1          \n",
       "1                                               54.1          \n",
       "2                                                NaN          \n",
       "3                                                NaN          \n",
       "4                                                NaN          \n",
       "\n",
       "   Healthy life expectancy (HALE) at age 60 (years) (Both sexes)  \\\n",
       "0                                               11.3               \n",
       "1                                               11.2               \n",
       "2                                                NaN               \n",
       "3                                                NaN               \n",
       "4                                                NaN               \n",
       "\n",
       "   Healthy life expectancy (HALE) at age 60 (years) (Male)  \\\n",
       "0                                               10.9         \n",
       "1                                               10.8         \n",
       "2                                                NaN         \n",
       "3                                                NaN         \n",
       "4                                                NaN         \n",
       "\n",
       "   Healthy life expectancy (HALE) at age 60 (years) (Female)  \n",
       "0                                               11.7          \n",
       "1                                               11.6          \n",
       "2                                                NaN          \n",
       "3                                                NaN          \n",
       "4                                                NaN          "
      ]
     },
     "execution_count": 88,
     "metadata": {},
     "output_type": "execute_result"
    }
   ],
   "source": [
    "# read in the life expectancy data\n",
    "# https://apps.who.int/gho/data/view.main.SDG2016LEXv?lang=en\n",
    "df = pd.read_csv(\"data/life_expectancy.csv\")\n",
    "df.head()"
   ]
  },
  {
   "cell_type": "code",
   "execution_count": 89,
   "metadata": {},
   "outputs": [
    {
     "data": {
      "text/html": [
       "<div>\n",
       "<style scoped>\n",
       "    .dataframe tbody tr th:only-of-type {\n",
       "        vertical-align: middle;\n",
       "    }\n",
       "\n",
       "    .dataframe tbody tr th {\n",
       "        vertical-align: top;\n",
       "    }\n",
       "\n",
       "    .dataframe thead th {\n",
       "        text-align: right;\n",
       "    }\n",
       "</style>\n",
       "<table border=\"1\" class=\"dataframe\">\n",
       "  <thead>\n",
       "    <tr style=\"text-align: right;\">\n",
       "      <th></th>\n",
       "      <th>Country</th>\n",
       "      <th>Year</th>\n",
       "      <th>Life expectancy</th>\n",
       "    </tr>\n",
       "  </thead>\n",
       "  <tbody>\n",
       "    <tr>\n",
       "      <th>0</th>\n",
       "      <td>Afghanistan</td>\n",
       "      <td>2016</td>\n",
       "      <td>62.7</td>\n",
       "    </tr>\n",
       "    <tr>\n",
       "      <th>1</th>\n",
       "      <td>Afghanistan</td>\n",
       "      <td>2015</td>\n",
       "      <td>63.2</td>\n",
       "    </tr>\n",
       "    <tr>\n",
       "      <th>2</th>\n",
       "      <td>Afghanistan</td>\n",
       "      <td>2014</td>\n",
       "      <td>63.0</td>\n",
       "    </tr>\n",
       "    <tr>\n",
       "      <th>3</th>\n",
       "      <td>Afghanistan</td>\n",
       "      <td>2013</td>\n",
       "      <td>62.7</td>\n",
       "    </tr>\n",
       "    <tr>\n",
       "      <th>4</th>\n",
       "      <td>Afghanistan</td>\n",
       "      <td>2012</td>\n",
       "      <td>62.2</td>\n",
       "    </tr>\n",
       "  </tbody>\n",
       "</table>\n",
       "</div>"
      ],
      "text/plain": [
       "       Country  Year  Life expectancy\n",
       "0  Afghanistan  2016             62.7\n",
       "1  Afghanistan  2015             63.2\n",
       "2  Afghanistan  2014             63.0\n",
       "3  Afghanistan  2013             62.7\n",
       "4  Afghanistan  2012             62.2"
      ]
     },
     "execution_count": 89,
     "metadata": {},
     "output_type": "execute_result"
    }
   ],
   "source": [
    "# remove the unwanted columns\n",
    "df = df[[\"Country\", \"Year\", \"Life expectancy at birth (years) (Both sexes)\"]]\n",
    "# rename the columns\n",
    "df = df.rename(columns={\"Life expectancy at birth (years) (Both sexes)\": \"Life expectancy\"})\n",
    "# remove the rows that are not needed (year > 2016)\n",
    "df.drop(df[df.Year >= 2017].index, inplace=True)\n",
    "df.head()"
   ]
  },
  {
   "cell_type": "markdown",
   "metadata": {},
   "source": [
    "### Add the BMI data (Age-standardized mean BMI (kg/m^2) 18+ years old)"
   ]
  },
  {
   "cell_type": "code",
   "execution_count": 90,
   "metadata": {},
   "outputs": [
    {
     "data": {
      "text/html": [
       "<div>\n",
       "<style scoped>\n",
       "    .dataframe tbody tr th:only-of-type {\n",
       "        vertical-align: middle;\n",
       "    }\n",
       "\n",
       "    .dataframe tbody tr th {\n",
       "        vertical-align: top;\n",
       "    }\n",
       "\n",
       "    .dataframe thead th {\n",
       "        text-align: right;\n",
       "    }\n",
       "</style>\n",
       "<table border=\"1\" class=\"dataframe\">\n",
       "  <thead>\n",
       "    <tr style=\"text-align: right;\">\n",
       "      <th></th>\n",
       "      <th>Country</th>\n",
       "      <th>Year</th>\n",
       "      <th>Life expectancy</th>\n",
       "      <th>BMI</th>\n",
       "    </tr>\n",
       "  </thead>\n",
       "  <tbody>\n",
       "    <tr>\n",
       "      <th>0</th>\n",
       "      <td>Afghanistan</td>\n",
       "      <td>2016</td>\n",
       "      <td>62.7</td>\n",
       "      <td>23.4</td>\n",
       "    </tr>\n",
       "    <tr>\n",
       "      <th>1</th>\n",
       "      <td>Afghanistan</td>\n",
       "      <td>2015</td>\n",
       "      <td>63.2</td>\n",
       "      <td>23.3</td>\n",
       "    </tr>\n",
       "    <tr>\n",
       "      <th>2</th>\n",
       "      <td>Afghanistan</td>\n",
       "      <td>2014</td>\n",
       "      <td>63.0</td>\n",
       "      <td>23.2</td>\n",
       "    </tr>\n",
       "    <tr>\n",
       "      <th>3</th>\n",
       "      <td>Afghanistan</td>\n",
       "      <td>2013</td>\n",
       "      <td>62.7</td>\n",
       "      <td>23</td>\n",
       "    </tr>\n",
       "    <tr>\n",
       "      <th>4</th>\n",
       "      <td>Afghanistan</td>\n",
       "      <td>2012</td>\n",
       "      <td>62.2</td>\n",
       "      <td>22.9</td>\n",
       "    </tr>\n",
       "  </tbody>\n",
       "</table>\n",
       "</div>"
      ],
      "text/plain": [
       "       Country  Year  Life expectancy    BMI\n",
       "0  Afghanistan  2016             62.7  23.4 \n",
       "1  Afghanistan  2015             63.2  23.3 \n",
       "2  Afghanistan  2014             63.0  23.2 \n",
       "3  Afghanistan  2013             62.7    23 \n",
       "4  Afghanistan  2012             62.2  22.9 "
      ]
     },
     "execution_count": 90,
     "metadata": {},
     "output_type": "execute_result"
    }
   ],
   "source": [
    "# read in the data\n",
    "# https://www.who.int/data/gho/data/indicators/indicator-details/GHO/mean-bmi-(kg-m-)-(age-standardized-estimate)\n",
    "bmi = pd.read_csv(\"data/bmi.csv\")\n",
    "\n",
    "# drop the unwanted columns\n",
    "bmi.drop('Indicator',axis=1,inplace=True)\n",
    "bmi.drop('Dim2',axis=1,inplace=True)\n",
    "\n",
    "# drop the unwanted rows\n",
    "bmi.drop(bmi[bmi.Period < 2000].index, inplace=True)\n",
    "bmi.drop(bmi[bmi.Dim1 == \"Male\"].index, inplace=True)\n",
    "bmi.drop(bmi[bmi.Dim1 == \"Female\"].index, inplace=True)\n",
    "\n",
    "# tidy the data in the bmi column\n",
    "bmi[\"First Tooltip\"].replace([\"\\[.*\\]\"], \"\", inplace=True, regex=True)\n",
    "\n",
    "# merge the data into our life expectancy dataframe\n",
    "df = df.merge(bmi, how = \"inner\", left_on = [\"Country\",\"Year\"], right_on = [\"Location\", \"Period\"])\n",
    "\n",
    "# remove more unwanted columns\n",
    "df.drop('Location',axis=1,inplace=True)\n",
    "df.drop('Period',axis=1,inplace=True)\n",
    "df.drop('Dim1',axis=1,inplace=True)\n",
    "\n",
    "# rename the BMI column\n",
    "df = df.rename(columns={\"First Tooltip\": \"BMI\"})\n",
    "\n",
    "df.head()"
   ]
  },
  {
   "cell_type": "markdown",
   "metadata": {},
   "source": [
    "### Add the drinking water data "
   ]
  },
  {
   "cell_type": "code",
   "execution_count": null,
   "metadata": {},
   "outputs": [],
   "source": [
    "# read in the data\n",
    "# https://www.who.int/data/gho/data/indicators/indicator-details/GHO/population-using-safely-managed-drinking-water-services-(-)\n",
    "drinking_water = pd.read_csv(\"data/drinking_water.csv\")"
   ]
  },
  {
   "cell_type": "markdown",
   "metadata": {},
   "source": [
    "### Add the government expenditure data"
   ]
  },
  {
   "cell_type": "code",
   "execution_count": null,
   "metadata": {},
   "outputs": [],
   "source": [
    "# read in the data\n",
    "# https://www.who.int/data/gho/data/indicators/indicator-details/GHO/general-government-expenditure-on-health-as-a-percentage-of-total-government-expenditure\n",
    "government_expenditure = pd.read_csv(\"data/government_expenditure.csv\")"
   ]
  },
  {
   "cell_type": "markdown",
   "metadata": {},
   "source": [
    "### Add the HIV data"
   ]
  },
  {
   "cell_type": "code",
   "execution_count": null,
   "metadata": {},
   "outputs": [],
   "source": [
    "# read in the data\n",
    "# https://www.who.int/data/gho/data/indicators/indicator-details/GHO/new-hiv-infections-(per-1000-uninfected-population)\n",
    "HIV = pd.read_csv(\"data/HIV.csv\")"
   ]
  },
  {
   "cell_type": "markdown",
   "metadata": {},
   "source": [
    "### Add the homicide data"
   ]
  },
  {
   "cell_type": "code",
   "execution_count": null,
   "metadata": {},
   "outputs": [],
   "source": [
    "# read in the data\n",
    "# https://www.who.int/data/gho/data/indicators/indicator-details/GHO/estimates-of-rates-of-homicides-per-100-000-population\n",
    "homicides = pd.read_csv(\"data/homicides.csv\")"
   ]
  },
  {
   "cell_type": "markdown",
   "metadata": {},
   "source": [
    "### Add the malaria data"
   ]
  },
  {
   "cell_type": "code",
   "execution_count": null,
   "metadata": {},
   "outputs": [],
   "source": [
    "# read in the data\n",
    "# https://www.who.int/data/gho/data/indicators/indicator-details/GHO/malaria---number-of-reported-confirmed-cases\n",
    "malaria = pd.read_csv(\"data/malaria.csv\")"
   ]
  },
  {
   "cell_type": "markdown",
   "metadata": {},
   "source": [
    "### Add the pollution data"
   ]
  },
  {
   "cell_type": "code",
   "execution_count": null,
   "metadata": {},
   "outputs": [],
   "source": [
    "# read in the data\n",
    "# https://www.who.int/data/gho/data/indicators/indicator-details/GHO/gho-phe-primary-reliance-on-clean-fuels-and-technologies-proportion\n",
    "pollution = pd.read_csv(\"data/pollution.csv\")"
   ]
  },
  {
   "cell_type": "markdown",
   "metadata": {},
   "source": [
    "### Add the suicide data"
   ]
  },
  {
   "cell_type": "code",
   "execution_count": null,
   "metadata": {},
   "outputs": [],
   "source": [
    "# read in the data\n",
    "# https://www.who.int/data/gho/data/indicators/indicator-details/GHO/age-standardized-suicide-rates-(per-100-000-population)\n",
    "suicide = pd.read_csv(\"data/suicide.csv\")"
   ]
  },
  {
   "cell_type": "markdown",
   "metadata": {},
   "source": [
    "### Add the tuberculosis data"
   ]
  },
  {
   "cell_type": "code",
   "execution_count": null,
   "metadata": {},
   "outputs": [],
   "source": [
    "# read in the data\n",
    "# https://www.who.int/data/gho/data/indicators/indicator-details/GHO/deaths-due-to-tuberculosis-among-hiv-negative-people-(per-100-000-population)\n",
    "tuberculosis = pd.read_csv(\"data/tuberculosis.csv\")"
   ]
  },
  {
   "cell_type": "markdown",
   "metadata": {},
   "source": [
    "### Add the under-five deaths data"
   ]
  },
  {
   "cell_type": "code",
   "execution_count": null,
   "metadata": {},
   "outputs": [],
   "source": [
    "# read in the data\n",
    "# https://www.who.int/data/gho/data/indicators/indicator-details/GHO/number-of-under-five-deaths-(thousands)\n",
    "under_five_deaths = pd.read_csv(\"data/under-five_deaths.csv\")"
   ]
  }
 ],
 "metadata": {
  "kernelspec": {
   "display_name": "Python 3",
   "language": "python",
   "name": "python3"
  },
  "language_info": {
   "codemirror_mode": {
    "name": "ipython",
    "version": 3
   },
   "file_extension": ".py",
   "mimetype": "text/x-python",
   "name": "python",
   "nbconvert_exporter": "python",
   "pygments_lexer": "ipython3",
   "version": "3.8.5"
  }
 },
 "nbformat": 4,
 "nbformat_minor": 4
}
