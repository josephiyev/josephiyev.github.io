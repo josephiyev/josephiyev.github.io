{
 "cells": [
  {
   "cell_type": "markdown",
   "metadata": {},
   "source": [
    "## CMSC320 Final - Analysis of Life Expectancy Data\n",
    "### Evan Nadelbach and Joseph Zietowski"
   ]
  },
  {
   "cell_type": "markdown",
   "metadata": {},
   "source": [
    "# Data Collection"
   ]
  },
  {
   "cell_type": "code",
   "execution_count": 38,
   "metadata": {},
   "outputs": [],
   "source": [
    "import pandas as pd\n",
    "import re\n",
    "from sklearn import linear_model\n",
    "import numpy as np\n",
    "from collections import OrderedDict\n",
    "\n",
    "\n",
    "pd.set_option('display.max_rows', None)"
   ]
  },
  {
   "cell_type": "code",
   "execution_count": 2,
   "metadata": {},
   "outputs": [
    {
     "data": {
      "text/html": [
       "<div>\n",
       "<style scoped>\n",
       "    .dataframe tbody tr th:only-of-type {\n",
       "        vertical-align: middle;\n",
       "    }\n",
       "\n",
       "    .dataframe tbody tr th {\n",
       "        vertical-align: top;\n",
       "    }\n",
       "\n",
       "    .dataframe thead th {\n",
       "        text-align: right;\n",
       "    }\n",
       "</style>\n",
       "<table border=\"1\" class=\"dataframe\">\n",
       "  <thead>\n",
       "    <tr style=\"text-align: right;\">\n",
       "      <th></th>\n",
       "      <th>Country</th>\n",
       "      <th>Year</th>\n",
       "      <th>Life expectancy at birth (years) (Both sexes)</th>\n",
       "      <th>Life expectancy at birth (years) (Male)</th>\n",
       "      <th>Life expectancy at birth (years) (Female)</th>\n",
       "      <th>Life expectancy at age 60 (years) (Both sexes)</th>\n",
       "      <th>Life expectancy at age 60 (years) (Male)</th>\n",
       "      <th>Life expectancy at age 60 (years) (Female)</th>\n",
       "      <th>Healthy life expectancy (HALE) at birth (years) (Both sexes)</th>\n",
       "      <th>Healthy life expectancy (HALE) at birth (years) (Male)</th>\n",
       "      <th>Healthy life expectancy (HALE) at birth (years) (Female)</th>\n",
       "      <th>Healthy life expectancy (HALE) at age 60 (years) (Both sexes)</th>\n",
       "      <th>Healthy life expectancy (HALE) at age 60 (years) (Male)</th>\n",
       "      <th>Healthy life expectancy (HALE) at age 60 (years) (Female)</th>\n",
       "    </tr>\n",
       "  </thead>\n",
       "  <tbody>\n",
       "    <tr>\n",
       "      <th>0</th>\n",
       "      <td>Afghanistan</td>\n",
       "      <td>2016</td>\n",
       "      <td>62.7</td>\n",
       "      <td>61.0</td>\n",
       "      <td>64.5</td>\n",
       "      <td>16.3</td>\n",
       "      <td>15.5</td>\n",
       "      <td>17.1</td>\n",
       "      <td>53.0</td>\n",
       "      <td>52.1</td>\n",
       "      <td>54.1</td>\n",
       "      <td>11.3</td>\n",
       "      <td>10.9</td>\n",
       "      <td>11.7</td>\n",
       "    </tr>\n",
       "    <tr>\n",
       "      <th>1</th>\n",
       "      <td>Afghanistan</td>\n",
       "      <td>2015</td>\n",
       "      <td>63.2</td>\n",
       "      <td>61.8</td>\n",
       "      <td>64.7</td>\n",
       "      <td>16.3</td>\n",
       "      <td>15.5</td>\n",
       "      <td>17.1</td>\n",
       "      <td>53.2</td>\n",
       "      <td>52.6</td>\n",
       "      <td>54.1</td>\n",
       "      <td>11.2</td>\n",
       "      <td>10.8</td>\n",
       "      <td>11.6</td>\n",
       "    </tr>\n",
       "    <tr>\n",
       "      <th>2</th>\n",
       "      <td>Afghanistan</td>\n",
       "      <td>2014</td>\n",
       "      <td>63.0</td>\n",
       "      <td>61.7</td>\n",
       "      <td>64.4</td>\n",
       "      <td>16.2</td>\n",
       "      <td>15.4</td>\n",
       "      <td>17.0</td>\n",
       "      <td>NaN</td>\n",
       "      <td>NaN</td>\n",
       "      <td>NaN</td>\n",
       "      <td>NaN</td>\n",
       "      <td>NaN</td>\n",
       "      <td>NaN</td>\n",
       "    </tr>\n",
       "    <tr>\n",
       "      <th>3</th>\n",
       "      <td>Afghanistan</td>\n",
       "      <td>2013</td>\n",
       "      <td>62.7</td>\n",
       "      <td>61.5</td>\n",
       "      <td>64.1</td>\n",
       "      <td>16.2</td>\n",
       "      <td>15.4</td>\n",
       "      <td>16.9</td>\n",
       "      <td>NaN</td>\n",
       "      <td>NaN</td>\n",
       "      <td>NaN</td>\n",
       "      <td>NaN</td>\n",
       "      <td>NaN</td>\n",
       "      <td>NaN</td>\n",
       "    </tr>\n",
       "    <tr>\n",
       "      <th>4</th>\n",
       "      <td>Afghanistan</td>\n",
       "      <td>2012</td>\n",
       "      <td>62.2</td>\n",
       "      <td>60.9</td>\n",
       "      <td>63.6</td>\n",
       "      <td>16.1</td>\n",
       "      <td>15.3</td>\n",
       "      <td>16.8</td>\n",
       "      <td>NaN</td>\n",
       "      <td>NaN</td>\n",
       "      <td>NaN</td>\n",
       "      <td>NaN</td>\n",
       "      <td>NaN</td>\n",
       "      <td>NaN</td>\n",
       "    </tr>\n",
       "  </tbody>\n",
       "</table>\n",
       "</div>"
      ],
      "text/plain": [
       "       Country  Year  Life expectancy at birth (years) (Both sexes)  \\\n",
       "0  Afghanistan  2016                                           62.7   \n",
       "1  Afghanistan  2015                                           63.2   \n",
       "2  Afghanistan  2014                                           63.0   \n",
       "3  Afghanistan  2013                                           62.7   \n",
       "4  Afghanistan  2012                                           62.2   \n",
       "\n",
       "   Life expectancy at birth (years) (Male)  \\\n",
       "0                                     61.0   \n",
       "1                                     61.8   \n",
       "2                                     61.7   \n",
       "3                                     61.5   \n",
       "4                                     60.9   \n",
       "\n",
       "   Life expectancy at birth (years) (Female)  \\\n",
       "0                                       64.5   \n",
       "1                                       64.7   \n",
       "2                                       64.4   \n",
       "3                                       64.1   \n",
       "4                                       63.6   \n",
       "\n",
       "   Life expectancy at age 60 (years) (Both sexes)  \\\n",
       "0                                            16.3   \n",
       "1                                            16.3   \n",
       "2                                            16.2   \n",
       "3                                            16.2   \n",
       "4                                            16.1   \n",
       "\n",
       "   Life expectancy at age 60 (years) (Male)  \\\n",
       "0                                      15.5   \n",
       "1                                      15.5   \n",
       "2                                      15.4   \n",
       "3                                      15.4   \n",
       "4                                      15.3   \n",
       "\n",
       "   Life expectancy at age 60 (years) (Female)  \\\n",
       "0                                        17.1   \n",
       "1                                        17.1   \n",
       "2                                        17.0   \n",
       "3                                        16.9   \n",
       "4                                        16.8   \n",
       "\n",
       "   Healthy life expectancy (HALE) at birth (years) (Both sexes)  \\\n",
       "0                                               53.0              \n",
       "1                                               53.2              \n",
       "2                                                NaN              \n",
       "3                                                NaN              \n",
       "4                                                NaN              \n",
       "\n",
       "   Healthy life expectancy (HALE) at birth (years) (Male)  \\\n",
       "0                                               52.1        \n",
       "1                                               52.6        \n",
       "2                                                NaN        \n",
       "3                                                NaN        \n",
       "4                                                NaN        \n",
       "\n",
       "   Healthy life expectancy (HALE) at birth (years) (Female)  \\\n",
       "0                                               54.1          \n",
       "1                                               54.1          \n",
       "2                                                NaN          \n",
       "3                                                NaN          \n",
       "4                                                NaN          \n",
       "\n",
       "   Healthy life expectancy (HALE) at age 60 (years) (Both sexes)  \\\n",
       "0                                               11.3               \n",
       "1                                               11.2               \n",
       "2                                                NaN               \n",
       "3                                                NaN               \n",
       "4                                                NaN               \n",
       "\n",
       "   Healthy life expectancy (HALE) at age 60 (years) (Male)  \\\n",
       "0                                               10.9         \n",
       "1                                               10.8         \n",
       "2                                                NaN         \n",
       "3                                                NaN         \n",
       "4                                                NaN         \n",
       "\n",
       "   Healthy life expectancy (HALE) at age 60 (years) (Female)  \n",
       "0                                               11.7          \n",
       "1                                               11.6          \n",
       "2                                                NaN          \n",
       "3                                                NaN          \n",
       "4                                                NaN          "
      ]
     },
     "execution_count": 2,
     "metadata": {},
     "output_type": "execute_result"
    }
   ],
   "source": [
    "# read in the life expectancy data\n",
    "# https://apps.who.int/gho/data/view.main.SDG2016LEXv?lang=en\n",
    "df = pd.read_csv(\"data/life_expectancy.csv\")\n",
    "df.head()"
   ]
  },
  {
   "cell_type": "code",
   "execution_count": 3,
   "metadata": {},
   "outputs": [
    {
     "data": {
      "text/plain": [
       "3111"
      ]
     },
     "execution_count": 3,
     "metadata": {},
     "output_type": "execute_result"
    }
   ],
   "source": [
    "# remove the unwanted columns\n",
    "df = df[[\"Country\", \"Year\", \"Life expectancy at birth (years) (Both sexes)\"]]\n",
    "\n",
    "# rename the columns\n",
    "df = df.rename(columns={\"Life expectancy at birth (years) (Both sexes)\": \"life_expectancy\", \\\n",
    "                        \"Country\" : \"country\", \"Year\" : \"year\"})\n",
    "\n",
    "# remove the rows that are not needed (year > 2016)\n",
    "df.drop(df[df.year >= 2017].index, inplace=True)\n",
    "len(df)"
   ]
  },
  {
   "cell_type": "markdown",
   "metadata": {},
   "source": [
    "### Add the BMI data (Age-standardized mean BMI (kg/m^2) 18+ years old)"
   ]
  },
  {
   "cell_type": "code",
   "execution_count": 4,
   "metadata": {},
   "outputs": [
    {
     "data": {
      "text/plain": [
       "3111"
      ]
     },
     "execution_count": 4,
     "metadata": {},
     "output_type": "execute_result"
    }
   ],
   "source": [
    "# read in the data\n",
    "# https://www.who.int/data/gho/data/indicators/indicator-details/GHO/mean-bmi-(kg-m-)-(age-standardized-estimate)\n",
    "bmi = pd.read_csv(\"data/bmi.csv\")\n",
    "\n",
    "# drop the unwanted columns\n",
    "bmi.drop('Indicator',axis=1,inplace=True)\n",
    "bmi.drop('Dim2',axis=1,inplace=True)\n",
    "\n",
    "# drop the unwanted rows\n",
    "bmi.drop(bmi[bmi.Period < 2000].index, inplace=True)\n",
    "bmi.drop(bmi[bmi.Dim1 == \"Male\"].index, inplace=True)\n",
    "bmi.drop(bmi[bmi.Dim1 == \"Female\"].index, inplace=True)\n",
    "\n",
    "# tidy the data in the bmi column\n",
    "bmi[\"First Tooltip\"].replace([\"\\[.*\\]\"], \"\", inplace=True, regex=True)\n",
    "\n",
    "# merge the data into our life expectancy dataframe\n",
    "df = df.merge(bmi, how = \"left\", left_on = [\"country\", \"year\"], right_on = [\"Location\", \"Period\"])\n",
    "\n",
    "# remove more unwanted columns\n",
    "df.drop('Location', axis=1, inplace=True)\n",
    "df.drop('Period', axis=1, inplace=True)\n",
    "df.drop('Dim1', axis=1, inplace=True)\n",
    "\n",
    "# rename the BMI column\n",
    "df = df.rename(columns={\"First Tooltip\": \"bmi\"})\n",
    "\n",
    "len(df)"
   ]
  },
  {
   "cell_type": "markdown",
   "metadata": {},
   "source": [
    "### Add the drinking-water data (% of population using at least basic drinking-water services)"
   ]
  },
  {
   "cell_type": "code",
   "execution_count": 5,
   "metadata": {},
   "outputs": [
    {
     "data": {
      "text/plain": [
       "3111"
      ]
     },
     "execution_count": 5,
     "metadata": {},
     "output_type": "execute_result"
    }
   ],
   "source": [
    "import matplotlib.pyplot as plt\n",
    "\n",
    "# read in the data\n",
    "# https://www.who.int/data/gho/data/indicators/indicator-details/GHO/population-using-safely-managed-drinking-water-services-(-)\n",
    "drinking_water = pd.read_csv(\"data/drinking_water.csv\")\n",
    "\n",
    "# drop unwanted rows\n",
    "indicator = \"Population using at least basic drinking-water services (%)\"\n",
    "drinking_water.drop(drinking_water[drinking_water.Indicator != indicator].index, inplace=True)\n",
    "\n",
    "# drop unwanted columns\n",
    "drinking_water.drop(\"Indicator\", axis=1, inplace=True)\n",
    "\n",
    "# merge the data into our life expectancy dataframe\n",
    "df = df.merge(drinking_water, how = \"left\", left_on = [\"country\", \"year\"], right_on = [\"Location\", \"Period\"])\n",
    "\n",
    "# remove more unwanted columns\n",
    "df.drop('Location', axis=1, inplace=True)\n",
    "df.drop('Period', axis=1, inplace=True)\n",
    "\n",
    "# rename the drinking-water column\n",
    "df = df.rename(columns={\"First Tooltip\": \"drinking_water\"})\n",
    "\n",
    "len(df)"
   ]
  },
  {
   "cell_type": "markdown",
   "metadata": {},
   "source": [
    "### Add the government expenditure data (% of government expenditure on general health)"
   ]
  },
  {
   "cell_type": "code",
   "execution_count": 6,
   "metadata": {},
   "outputs": [
    {
     "data": {
      "text/plain": [
       "3111"
      ]
     },
     "execution_count": 6,
     "metadata": {},
     "output_type": "execute_result"
    }
   ],
   "source": [
    "# read in the data\n",
    "# https://www.who.int/data/gho/data/indicators/indicator-details/GHO/general-government-expenditure-on-health-as-a-percentage-of-total-government-expenditure\n",
    "government_expenditure = pd.read_csv(\"data/government_expenditure.csv\")\n",
    "\n",
    "# drop unwanted columns\n",
    "government_expenditure.drop(\"Indicator\", axis=1, inplace=True)\n",
    "\n",
    "# This loop will iterate for each country in the dataset\n",
    "for i in government_expenditure['Location'].unique():\n",
    "    \n",
    "    # Get only the data for the current country.\n",
    "    currdata = government_expenditure.loc[government_expenditure['Location'] == i]\n",
    "\n",
    "    # Linear regression will have the Year (Period) as the predictors and the expenditure (First Tooltip) as the value\n",
    "    X = currdata[['Period']]\n",
    "    y = currdata['First Tooltip']\n",
    "\n",
    "    # Creating and plotting the linear regression line\n",
    "    reg = linear_model.LinearRegression()\n",
    "    reg.fit(X, y)\n",
    "\n",
    "    # Generate data for countries that are missing it for years 2000-2016\n",
    "    for k in range(2000, 2017):\n",
    "        if not k in currdata['Period'].values:\n",
    "            government_expenditure = government_expenditure.append({'Location': i, \\\n",
    "                                                                    'Period': k, \\\n",
    "                                                                    'First Tooltip': round(reg.predict([[k]])[0], 2)}, \\\n",
    "                                                                   ignore_index=True)\n",
    "\n",
    "# merge the data into our life expectancy dataframe\n",
    "df = df.merge(government_expenditure, how = \"left\", left_on = [\"country\", \"year\"], right_on = [\"Location\", \"Period\"])\n",
    "\n",
    "# remove more unwanted columns\n",
    "df.drop('Location', axis=1, inplace=True)\n",
    "df.drop('Period', axis=1, inplace=True)\n",
    "\n",
    "# rename the government expenditure column\n",
    "df = df.rename(columns={\"First Tooltip\": \"government_expenditure\"})\n",
    "\n",
    "len(df)"
   ]
  },
  {
   "cell_type": "markdown",
   "metadata": {},
   "source": [
    "### Add the HIV data (New HIV infections per 1000 uninfected population)"
   ]
  },
  {
   "cell_type": "code",
   "execution_count": 7,
   "metadata": {},
   "outputs": [
    {
     "data": {
      "text/plain": [
       "3111"
      ]
     },
     "execution_count": 7,
     "metadata": {},
     "output_type": "execute_result"
    }
   ],
   "source": [
    "# read in the data\n",
    "# https://www.who.int/data/gho/data/indicators/indicator-details/GHO/new-hiv-infections-(per-1000-uninfected-population)\n",
    "HIV = pd.read_csv(\"data/HIV.csv\")\n",
    "\n",
    "# drop unwanted rows\n",
    "HIV.drop(HIV[HIV.Dim1 != \"Both sexes\"].index, inplace=True)\n",
    "\n",
    "# drop unwanted columns\n",
    "HIV.drop(\"Indicator\", axis=1, inplace=True)\n",
    "HIV.drop(\"Dim1\", axis=1, inplace=True)\n",
    "\n",
    "# tidy the data in the HIV column\n",
    "HIV[\"First Tooltip\"].replace([\"\\[.*\\]\"], \"\", inplace=True, regex=True)\n",
    "HIV[\"First Tooltip\"].replace([\"<\"], \"\", inplace=True, regex=True)\n",
    "HIV.drop(HIV[HIV['First Tooltip'] == \"No data\"].index, inplace=True)\n",
    "\n",
    "# HIV[\"First Tooltip\"].replace([\"No data\"], np.nan, inplace=True)\n",
    "HIV['First Tooltip'] = HIV['First Tooltip'].astype(float)\n",
    "\n",
    "# This loop will iterate for each country in the dataset\n",
    "for i in HIV['Location'].unique():\n",
    "    \n",
    "    # Get only the data for the current country.\n",
    "    currdata = HIV.loc[HIV['Location'] == i]\n",
    "\n",
    "    # Linear regression will have the Year (Period) as the predictors and the expenditure (First Tooltip) as the value\n",
    "    X = currdata[['Period']]\n",
    "    y = currdata['First Tooltip']\n",
    "\n",
    "    # Creating and plotting the linear regression line\n",
    "    reg = linear_model.LinearRegression()\n",
    "    reg.fit(X, y)\n",
    "\n",
    "    # Generate data for countries that are missing it for years 2000-2016\n",
    "    for k in range(2000, 2017):\n",
    "        if not k in currdata['Period'].values:\n",
    "            HIV = HIV.append({'Location': i, 'Period': k, 'First Tooltip': round(reg.predict([[k]])[0], 2)}, ignore_index=True)\n",
    "\n",
    "# merge the data into our life expectancy dataframe\n",
    "df = df.merge(HIV, how = \"left\", left_on = [\"country\", \"year\"], right_on = [\"Location\", \"Period\"])\n",
    "\n",
    "# remove more unwanted columns\n",
    "df.drop('Location', axis=1, inplace=True)\n",
    "df.drop('Period', axis=1, inplace=True)\n",
    "\n",
    "# rename the HIV column\n",
    "df = df.rename(columns={\"First Tooltip\": \"HIV\"})\n",
    "\n",
    "len(df)"
   ]
  },
  {
   "cell_type": "markdown",
   "metadata": {},
   "source": [
    "### Add the homicide data (Estimates of rates of homicides per 100 000 population)"
   ]
  },
  {
   "cell_type": "code",
   "execution_count": 8,
   "metadata": {},
   "outputs": [
    {
     "data": {
      "text/plain": [
       "3111"
      ]
     },
     "execution_count": 8,
     "metadata": {},
     "output_type": "execute_result"
    }
   ],
   "source": [
    "# read in the data\n",
    "# https://www.who.int/data/gho/data/indicators/indicator-details/GHO/estimates-of-rates-of-homicides-per-100-000-population\n",
    "homicides = pd.read_csv(\"data/homicides.csv\")\n",
    "\n",
    "# drop unwanted rows\n",
    "homicides.drop(homicides[homicides.Dim1 != \"Both sexes\"].index, inplace=True)\n",
    "\n",
    "# drop unwanted columns\n",
    "homicides.drop(\"Indicator\", axis=1, inplace=True)\n",
    "homicides.drop(\"Dim1\", axis=1, inplace=True)\n",
    "\n",
    "# This loop will iterate for each country in the dataset\n",
    "for i in homicides['Location'].unique():\n",
    "    \n",
    "    # Get only the data for the current country.\n",
    "    currdata = homicides.loc[homicides['Location'] == i]\n",
    "\n",
    "    # Linear regression will have the Year (Period) as the predictors and the expenditure (First Tooltip) as the value\n",
    "    X = currdata[['Period']]\n",
    "    y = currdata['First Tooltip']\n",
    "\n",
    "    # Creating and plotting the linear regression line\n",
    "    reg = linear_model.LinearRegression()\n",
    "    reg.fit(X, y)\n",
    "\n",
    "    # Generate data for countries that are missing it for years 2000-2016\n",
    "    for k in range(2000, 2017):\n",
    "        if not k in currdata['Period'].values:\n",
    "            homicides = homicides.append({'Location': i, 'Period': k, 'First Tooltip': round(reg.predict([[k]])[0], 2)}, \\\n",
    "                                         ignore_index=True)\n",
    "\n",
    "# merge the data into our life expectancy dataframe\n",
    "df = df.merge(homicides, how = \"left\", left_on = [\"country\", \"year\"], right_on = [\"Location\", \"Period\"])\n",
    "\n",
    "# remove more unwanted columns\n",
    "df.drop('Location', axis=1, inplace=True)\n",
    "df.drop('Period', axis=1, inplace=True)\n",
    "\n",
    "# rename the homicides column\n",
    "df = df.rename(columns={\"First Tooltip\": \"homicides\"})\n",
    "\n",
    "len(df)"
   ]
  },
  {
   "cell_type": "markdown",
   "metadata": {},
   "source": [
    "### Add the malaria data (Malaria incidence per 1000 population at risk)"
   ]
  },
  {
   "cell_type": "code",
   "execution_count": 9,
   "metadata": {},
   "outputs": [
    {
     "data": {
      "text/plain": [
       "3111"
      ]
     },
     "execution_count": 9,
     "metadata": {},
     "output_type": "execute_result"
    }
   ],
   "source": [
    "# read in the data\n",
    "# https://www.who.int/data/gho/data/indicators/indicator-details/GHO/malaria-incidence-(per-1-000-population-at-risk)\n",
    "malaria = pd.read_csv(\"data/malaria.csv\")\n",
    "\n",
    "# drop unwanted columns\n",
    "malaria.drop(\"Indicator\", axis=1, inplace=True)\n",
    "\n",
    "# merge the data into our life expectancy dataframe\n",
    "df = df.merge(malaria, how = \"left\", left_on = [\"country\", \"year\"], right_on = [\"Location\", \"Period\"])\n",
    "\n",
    "# remove more unwanted columns\n",
    "df.drop('Location', axis=1, inplace=True)\n",
    "df.drop('Period', axis=1, inplace=True)\n",
    "\n",
    "# rename the malaria column\n",
    "df = df.rename(columns={\"First Tooltip\": \"malaria\"})\n",
    "\n",
    "len(df)"
   ]
  },
  {
   "cell_type": "markdown",
   "metadata": {},
   "source": [
    "### Add the pollution data (% of population with primary reliance on clean fuels and technologies)"
   ]
  },
  {
   "cell_type": "code",
   "execution_count": 10,
   "metadata": {},
   "outputs": [
    {
     "data": {
      "text/plain": [
       "3111"
      ]
     },
     "execution_count": 10,
     "metadata": {},
     "output_type": "execute_result"
    }
   ],
   "source": [
    "# read in the data\n",
    "# https://www.who.int/data/gho/data/indicators/indicator-details/GHO/gho-phe-primary-reliance-on-clean-fuels-and-technologies-proportion\n",
    "pollution = pd.read_csv(\"data/pollution.csv\")\n",
    "\n",
    "# drop unwanted columns\n",
    "pollution.drop(\"Indicator\", axis=1, inplace=True)\n",
    "\n",
    "# merge the data into our life expectancy dataframe\n",
    "df = df.merge(pollution, how = \"left\", left_on = [\"country\", \"year\"], right_on = [\"Location\", \"Period\"])\n",
    "\n",
    "# remove more unwanted columns\n",
    "df.drop('Location', axis=1, inplace=True)\n",
    "df.drop('Period', axis=1, inplace=True)\n",
    "\n",
    "# rename the government expenditure column\n",
    "df = df.rename(columns={\"First Tooltip\": \"pollution\"})\n",
    "\n",
    "len(df)"
   ]
  },
  {
   "cell_type": "markdown",
   "metadata": {},
   "source": [
    "### Add the suicide data (Age-standardized suicide rates per 100,000 population)"
   ]
  },
  {
   "cell_type": "code",
   "execution_count": 11,
   "metadata": {},
   "outputs": [
    {
     "data": {
      "text/plain": [
       "3111"
      ]
     },
     "execution_count": 11,
     "metadata": {},
     "output_type": "execute_result"
    }
   ],
   "source": [
    "# read in the data\n",
    "# https://www.who.int/data/gho/data/indicators/indicator-details/GHO/age-standardized-suicide-rates-(per-100-000-population)\n",
    "suicides = pd.read_csv(\"data/suicide.csv\")\n",
    "\n",
    "# drop unwanted rows\n",
    "suicides.drop(suicides[suicides.Dim1 != \"Both sexes\"].index, inplace=True)\n",
    "\n",
    "# drop unwanted columns\n",
    "suicides.drop(\"Indicator\", axis=1, inplace=True)\n",
    "suicides.drop(\"Dim1\", axis=1, inplace=True)\n",
    "\n",
    "# This loop will iterate for each country in the dataset\n",
    "for i in suicides['Location'].unique():\n",
    "    \n",
    "    # Get only the data for the current country.\n",
    "    currdata = suicides.loc[suicides['Location'] == i]\n",
    "\n",
    "    # Linear regression will have the Year (Period) as the predictors and the expenditure (First Tooltip) as the value\n",
    "    X = currdata[['Period']]\n",
    "    y = currdata['First Tooltip']\n",
    "\n",
    "    # Creating and plotting the linear regression line\n",
    "    reg = linear_model.LinearRegression()\n",
    "    reg.fit(X, y)\n",
    "\n",
    "    # Generate data for countries that are missing it for years 2000-2016\n",
    "    for k in range(2000, 2017):\n",
    "        if not k in currdata['Period'].values:\n",
    "            suicides = suicides.append({'Location': i, 'Period': k, 'First Tooltip': round(reg.predict([[k]])[0], 1)}, \\\n",
    "                                         ignore_index=True)\n",
    "\n",
    "# merge the data into our life expectancy dataframe\n",
    "df = df.merge(suicides, how = \"left\", left_on = [\"country\", \"year\"], right_on = [\"Location\", \"Period\"])\n",
    "\n",
    "# remove more unwanted columns\n",
    "df.drop('Location', axis=1, inplace=True)\n",
    "df.drop('Period', axis=1, inplace=True)\n",
    "\n",
    "# rename the suicides column\n",
    "df = df.rename(columns={\"First Tooltip\": \"suicides\"})\n",
    "\n",
    "len(df)"
   ]
  },
  {
   "cell_type": "markdown",
   "metadata": {},
   "source": [
    "### Add the tuberculosis data (Deaths due to tuberculosis among HIV-negative people per 100,000 population)"
   ]
  },
  {
   "cell_type": "code",
   "execution_count": 12,
   "metadata": {},
   "outputs": [
    {
     "data": {
      "text/plain": [
       "3111"
      ]
     },
     "execution_count": 12,
     "metadata": {},
     "output_type": "execute_result"
    }
   ],
   "source": [
    "# read in the data\n",
    "# https://www.who.int/data/gho/data/indicators/indicator-details/GHO/deaths-due-to-tuberculosis-among-hiv-negative-people-(per-100-000-population)\n",
    "tuberculosis = pd.read_csv(\"data/tuberculosis.csv\")\n",
    "\n",
    "# drop unwanted column\n",
    "tuberculosis.drop(\"Indicator\", axis=1, inplace=True)\n",
    "\n",
    "# tidy the data in the tuberculosis column\n",
    "tuberculosis[\"First Tooltip\"].replace([\"\\[.*\\]\"], \"\", inplace=True, regex=True)\n",
    "\n",
    "tuberculosis[\"Location\"].replace([\"Sudan \\(until 2011\\)\"], \"Sudan\", inplace=True, regex=True)\n",
    "\n",
    "# This loop will iterate for each country in the dataset\n",
    "for i in tuberculosis['Location'].unique():\n",
    "    \n",
    "    # Get only the data for the current country.\n",
    "    currdata = tuberculosis.loc[tuberculosis['Location'] == i]\n",
    "\n",
    "    # Linear regression will have the Year (Period) as the predictors and the expenditure (First Tooltip) as the value\n",
    "    X = currdata[['Period']]\n",
    "    y = currdata['First Tooltip']\n",
    "\n",
    "    # Creating and plotting the linear regression line\n",
    "    reg = linear_model.LinearRegression()\n",
    "    reg.fit(X, y)\n",
    "\n",
    "    # Generate data for countries that are missing it for years 2000-2016\n",
    "    for k in range(2000, 2017):\n",
    "        if not k in currdata['Period'].values:\n",
    "            tuberculosis = tuberculosis.append({'Location': i, 'Period': k, 'First Tooltip': round(reg.predict([[k]])[0], 1)}, \\\n",
    "                                         ignore_index=True)\n",
    "\n",
    "# merge the data into our life expectancy dataframe\n",
    "df = df.merge(tuberculosis, how = \"left\", left_on = [\"country\", \"year\"], right_on = [\"Location\", \"Period\"])\n",
    "\n",
    "# remove more unwanted columns\n",
    "df.drop('Location', axis=1, inplace=True)\n",
    "df.drop('Period', axis=1, inplace=True)\n",
    "\n",
    "# rename the tuberculosis column\n",
    "df = df.rename(columns={\"First Tooltip\": \"tuberculosis\"})\n",
    "\n",
    "len(df)"
   ]
  },
  {
   "cell_type": "markdown",
   "metadata": {},
   "source": [
    "### Add the under-five deaths data (Number of under-five deaths in thousands)"
   ]
  },
  {
   "cell_type": "code",
   "execution_count": 13,
   "metadata": {},
   "outputs": [
    {
     "data": {
      "text/plain": [
       "3111"
      ]
     },
     "execution_count": 13,
     "metadata": {},
     "output_type": "execute_result"
    }
   ],
   "source": [
    "# read in the data\n",
    "# https://www.who.int/data/gho/data/indicators/indicator-details/GHO/number-of-under-five-deaths-(thousands)\n",
    "under_five_deaths = pd.read_csv(\"data/under_five_deaths.csv\")\n",
    "\n",
    "# drop unwanted rows\n",
    "under_five_deaths.drop(under_five_deaths[under_five_deaths.Dim1 != \"Both sexes\"].index, inplace=True)\n",
    "\n",
    "# drop unwanted column\n",
    "under_five_deaths.drop(\"Indicator\", axis=1, inplace=True)\n",
    "under_five_deaths.drop(\"Dim1\", axis=1, inplace=True)\n",
    "\n",
    "# tidy the data in the tuberculosis column\n",
    "under_five_deaths[\"First Tooltip\"].replace([\"\\[.*\\]\"], \"\", inplace=True, regex=True)\n",
    "\n",
    "under_five_deaths[\"Location\"].replace([\"Sudan \\(until 2011\\)\"], \"Sudan\", inplace=True, regex=True)\n",
    "\n",
    "# merge the data into our life expectancy dataframe\n",
    "df = df.merge(tuberculosis, how = \"left\", left_on = [\"country\", \"year\"], right_on = [\"Location\", \"Period\"])\n",
    "\n",
    "# remove more unwanted columns\n",
    "df.drop('Location', axis=1, inplace=True)\n",
    "df.drop('Period', axis=1, inplace=True)\n",
    "\n",
    "# rename the under five deaths column\n",
    "df = df.rename(columns={\"First Tooltip\": \"under_five_deaths\"})\n",
    "\n",
    "len(df)"
   ]
  },
  {
   "cell_type": "code",
   "execution_count": 29,
   "metadata": {},
   "outputs": [
    {
     "data": {
      "text/plain": [
       "183"
      ]
     },
     "execution_count": 29,
     "metadata": {},
     "output_type": "execute_result"
    }
   ],
   "source": [
    "df"
   ]
  },
  {
   "cell_type": "markdown",
   "metadata": {},
   "source": [
    "# Exploratory Data Analysis and Data Visualization"
   ]
  },
  {
   "cell_type": "code",
   "execution_count": 80,
   "metadata": {
    "scrolled": false
   },
   "outputs": [
    {
     "data": {
      "image/png": "[encoded data removed]",
      "text/plain": [
       "<Figure size 1080x720 with 1 Axes>"
      ]
     },
     "metadata": {
      "needs_background": "light"
     },
     "output_type": "display_data"
    }
   ],
   "source": [
    "# Labels the x and y axes and sets the size of the plot\n",
    "plt.figure(figsize=(15, 10))\n",
    "plt.title('Life expectancy by country')\n",
    "plt.xlabel('Country')\n",
    "plt.ylabel('Life expectancy')\n",
    "\n",
    "# Creates a dataset that computes the mean and standard deviation of the life expectancy for each country\n",
    "# and merges the two values into one table\n",
    "life_exp_mean = df.groupby('country', as_index=False)['life_expectancy'].mean()\n",
    "life_exp_std = df.groupby('country', as_index=False)['life_expectancy'].std()\n",
    "life_exp = life_exp_mean.merge(life_exp_std, how=\"outer\", left_on = [\"country\"],  right_on = [\"country\"])\n",
    "\n",
    "# Renames columns to have more recognizable names\n",
    "life_exp = life_exp.rename(columns={\"life_expectancy_x\": \"mean\", \"life_expectancy_y\": \"stdev\"})\n",
    "\n",
    "# Sorts based on mean\n",
    "life_exp.sort_values('mean', inplace=True)\n",
    "\n",
    "# Plots the bar graph shown below\n",
    "plt.bar(x=life_exp['country'], height=life_exp['mean'], tick_label='')\n",
    "plt.bar(x=life_exp['country'], height=life_exp['stdev'], tick_label='')\n",
    "\n",
    "# Creates the legend that shows mean and standard deviation by color\n",
    "plt.legend(['Mean', 'Standard deviation'], loc='upper left')\n",
    "\n",
    "plt.show()"
   ]
  },
  {
   "cell_type": "code",
   "execution_count": 102,
   "metadata": {},
   "outputs": [
    {
     "data": {
      "image/png": "[encoded data removed]",
      "text/plain": [
       "<Figure size 1080x432 with 2 Axes>"
      ]
     },
     "metadata": {
      "needs_background": "light"
     },
     "output_type": "display_data"
    }
   ],
   "source": [
    "# Labels the x and y axes and sets the size of the plot\n",
    "plt.figure(figsize=(15, 6))\n",
    "\n",
    "# Subplot for mean graph\n",
    "plt.subplot(1, 2, 1)\n",
    "\n",
    "# Compute mean for each year and plot it\n",
    "life_exp_mean = df.groupby('year', as_index=False)['life_expectancy'].mean()\n",
    "plt.title('Mean life expectancy by year')\n",
    "plt.xlabel('Year')\n",
    "plt.ylabel('Life expectancy')\n",
    "plt.plot(life_exp_mean['year'], life_exp_mean['life_expectancy'])\n",
    "\n",
    "# Compute standard deviation for each year and plot it\n",
    "plt.subplot(1, 2, 2)\n",
    "life_exp_std = df.groupby('year', as_index=False)['life_expectancy'].std()\n",
    "plt.title('Standard deviation of life expectancy by year')\n",
    "plt.xlabel('Year')\n",
    "plt.ylabel('Life expectancy')\n",
    "plt.plot(life_exp_std['year'], life_exp_std['life_expectancy'])\n",
    "\n",
    "plt.show()"
   ]
  },
  {
   "cell_type": "code",
   "execution_count": null,
   "metadata": {},
   "outputs": [],
   "source": []
  }
 ],
 "metadata": {
  "kernelspec": {
   "display_name": "Python 3",
   "language": "python",
   "name": "python3"
  },
  "language_info": {
   "codemirror_mode": {
    "name": "ipython",
    "version": 3
   },
   "file_extension": ".py",
   "mimetype": "text/x-python",
   "name": "python",
   "nbconvert_exporter": "python",
   "pygments_lexer": "ipython3",
   "version": "3.8.5"
  }
 },
 "nbformat": 4,
 "nbformat_minor": 4
}
